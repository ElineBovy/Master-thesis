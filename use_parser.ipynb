{
 "cells": [
  {
   "cell_type": "code",
   "execution_count": 1,
   "id": "e4260cf8",
   "metadata": {},
   "outputs": [],
   "source": [
    "import stormpy\n",
    "import inspect\n",
    "import interval_parser\n",
    "import parser\n",
    "import importlib"
   ]
  },
  {
   "cell_type": "code",
   "execution_count": 99,
   "id": "c1cedfd0",
   "metadata": {
    "scrolled": true
   },
   "outputs": [
    {
     "name": "stdout",
     "output_type": "stream",
     "text": [
      "FullArgSpec(args=['symbolic_description', 'properties'], varargs=None, varkw=None, defaults=(None,), kwonlyargs=[], kwonlydefaults=None, annotations={})\n"
     ]
    }
   ],
   "source": [
    "upomdp, upomdp_data, params = parser.main()"
   ]
  },
  {
   "cell_type": "code",
   "execution_count": 101,
   "id": "87fe313b",
   "metadata": {},
   "outputs": [],
   "source": [
    "from operator import itemgetter\n",
    "from itertools import groupby\n",
    "\n",
    "#states\n",
    "states_list = [\"s%s\"%state for state in upomdp.states]\n",
    "\n",
    "#actions\n",
    "act_list = sorted(list(set([upomdp_data[i][1] for i in range(len(upomdp_data))])))\n",
    "\n",
    "#states action list\n",
    "states_act_list = [[ud[0],ud[1]] for ud in upomdp_data]\n",
    "states_act_list = sorted(states_act_list, key=itemgetter(0))\n",
    "states_act_list = [[k,list(set([a for (s,a) in list(g)]))] for k, g in (groupby(states_act_list, key=itemgetter(0)))]\n",
    "\n",
    "#observations\n",
    "obs_list = [\"o%s\"%(obs) for obs in list(set(upomdp.observations))]\n",
    "obs_list.append(\"o_crash\")\n",
    "obs_list.append(\"o_deadlock\")\n",
    "obs_list = sorted(obs_list)\n",
    "# I had to add observations for crash and deadlock actions (both now go to observation 0)\n",
    "\n",
    "#observation states list\n",
    "func1 = lambda s, o: len(obs_list) if (\"crash_action\" in states_act_list[s][1]) else (len(obs_list)+1) if (\"deadlock_action\" in states_act_list[s][1]) else o\n",
    "func2 = lambda o: \"o_crash\" if (o == len(obs_list)) else \"o_deadlock\" if (o == (len(obs_list)+1)) else \"o%s\"%o\n",
    "obs_states_list = list(zip(states_list, upomdp.observations))\n",
    "obs_states_list = [(s,func1(int(s[1:]),o)) for (s,o) in obs_states_list]\n",
    "obs_states_list = sorted(obs_states_list, key=itemgetter(1))\n",
    "obs_states_list = [[func2(k),[s for (s,o) in list(g)]] for k, g in (groupby(obs_states_list, key=itemgetter(1)))]\n",
    "obs_states_list = sorted(obs_states_list, key=itemgetter(0))\n",
    "\n",
    "#observation action list\n",
    "obs_act_list = [[o,s[0]] for [o,s] in obs_states_list]\n",
    "obs_act_list = [[o,sorted(list(set(map(lambda x: x[1],list(filter(lambda x: \"s%s\"%x[0] == s, upomdp_data))))))] for [o,s] in obs_act_list]\n",
    "obs_act_list = sorted(obs_act_list, key=itemgetter(0))\n",
    "\n",
    "#intial belief\n",
    "floor = lambda num, precision: ((num*10**precision)//1)/(10**precision)\n",
    "ceil = lambda num, precision: -((-num*10**precision)//1)/(10**precision)\n",
    "initial_belief = [[\"s%s\"%s,[floor(1/len(upomdp.initial_states),3),ceil(1/len(upomdp.initial_states),3)]] for s in upomdp.initial_states]\n",
    "\n",
    "#rewards\n",
    "rewards_model_name = list(upomdp.reward_models.keys())[0]\n",
    "assert upomdp.reward_models[rewards_model_name].has_state_action_rewards\n",
    "rewards = upomdp.reward_models[rewards_model_name].state_action_rewards\n",
    "\n",
    "rewards_list = [[s,a] for [s,a_list] in states_act_list for a in a_list]\n",
    "rewards_list = [rewards_list[i]+[int(str(rewards[i]))] for i in range(len(rewards_list))]\n",
    "\n",
    "with open(\"aircraft.txt\", \"w\", newline=\"\") as outfile:\n",
    "    outfile.write(\"# States\\n\")\n",
    "    outfile.write(\" \".join(states_list)+\"\\n\")\n",
    "    outfile.write(\"\\n# Observations\\n\")\n",
    "    outfile.write(\" \".join(obs_list)+\"\\n\")\n",
    "    outfile.write(\"\\n# Actions\\n\")\n",
    "    outfile.write(\" \".join(act_list)+\"\\n\")\n",
    "    outfile.write(\"\\n# Observations states list\\n\")\n",
    "    for item in obs_states_list:\n",
    "        outfile.write(\" \".join(map(str,item[:-1]))+\" \"+\" \".join(map(str,item[-1]))+\"\\n\")\n",
    "    outfile.write(\"\\n# Observations actions list\\n\")\n",
    "    for item in obs_act_list:\n",
    "        outfile.write(\" \".join(map(str,item[:-1]))+\" \"+\" \".join(map(str,item[-1]))+\"\\n\")\n",
    "    outfile.write(f\"\\n# Initial belief\\n{len(upomdp.initial_states)}\\n\")\n",
    "    for item in initial_belief:\n",
    "        outfile.write(\" \".join(map(str,item[:-1]))+\" \"+\" \".join(map(str,item[-1]))+\"\\n\")\n",
    "    outfile.write(f\"\\n# Reward\\n{len(rewards_list)}\\n\")\n",
    "    for item in rewards_list:\n",
    "        outfile.write(\" \".join(map(str,item))+\"\\n\")\n",
    "    outfile.write(f\"\\n# Transitions\\n{len(upomdp_data)}\\n\")\n",
    "    for item in upomdp_data:\n",
    "        outfile.write(\" \".join(map(str,item[:-1]))+\" \"+\" \".join(map(str,item[-1]))+\"\\n\")"
   ]
  }
 ],
 "metadata": {
  "kernelspec": {
   "display_name": "Python 3 (ipykernel)",
   "language": "python",
   "name": "python3"
  },
  "language_info": {
   "codemirror_mode": {
    "name": "ipython",
    "version": 3
   },
   "file_extension": ".py",
   "mimetype": "text/x-python",
   "name": "python",
   "nbconvert_exporter": "python",
   "pygments_lexer": "ipython3",
   "version": "3.10.4"
  }
 },
 "nbformat": 4,
 "nbformat_minor": 5
}
